{
 "cells": [
  {
   "cell_type": "code",
   "execution_count": 1,
   "id": "cce4da41",
   "metadata": {},
   "outputs": [
    {
     "name": "stdout",
     "output_type": "stream",
     "text": [
      "Output of the network:\n",
      "o1 = 0.806202\n",
      "o2 = 0.837850\n"
     ]
    }
   ],
   "source": [
    "def tanh(x):\n",
    "    exp_pos = (2.71828 **x)  \n",
    "    exp_neg = (2.71828 ** -x) \n",
    "    return (exp_pos - exp_neg) / (exp_pos + exp_neg)\n",
    "\n",
    "i1, i2 = 0.05, 0.10\n",
    "\n",
    "w1, w2, w3, w4 = 0.15, 0.20, 0.25, 0.30\n",
    "w5, w6, w7, w8 = 0.40, 0.45, 0.50, 0.55\n",
    "\n",
    "b1, b2 = 0.5, 0.7\n",
    "\n",
    "net_h1 = w1 * i1 + w2 * i2 + b1\n",
    "net_h2 = w3 * i1 + w4 * i2 + b1\n",
    "\n",
    "out_h1 = tanh(net_h1)\n",
    "out_h2 = tanh(net_h2)\n",
    "\n",
    "net_o1 = w5 * out_h1 + w6 * out_h2 + b2\n",
    "net_o2 = w7 * out_h1 + w8 * out_h2 + b2\n",
    "\n",
    "out_o1 = tanh(net_o1)\n",
    "out_o2 = tanh(net_o2)\n",
    "\n",
    "print(\"Output of the network:\")\n",
    "print(f\"o1 = {out_o1:.6f}\")\n",
    "print(f\"o2 = {out_o2:.6f}\")"
   ]
  },
  {
   "cell_type": "code",
   "execution_count": null,
   "id": "d07c3d13",
   "metadata": {},
   "outputs": [],
   "source": []
  }
 ],
 "metadata": {
  "kernelspec": {
   "display_name": "Python 3 (ipykernel)",
   "language": "python",
   "name": "python3"
  },
  "language_info": {
   "codemirror_mode": {
    "name": "ipython",
    "version": 3
   },
   "file_extension": ".py",
   "mimetype": "text/x-python",
   "name": "python",
   "nbconvert_exporter": "python",
   "pygments_lexer": "ipython3",
   "version": "3.11.5"
  }
 },
 "nbformat": 4,
 "nbformat_minor": 5
}
